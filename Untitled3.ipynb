{
 "cells": [
  {
   "cell_type": "code",
   "execution_count": 45,
   "id": "32672164-06c2-4be5-b38a-09e132961232",
   "metadata": {},
   "outputs": [
    {
     "name": "stdout",
     "output_type": "stream",
     "text": [
      "Prediction for small and Green: tomato\n",
      "Test Set Prediction: [2 2]\n",
      "Confusion Matrix:\n",
      " [[0 0 1]\n",
      " [0 0 1]\n",
      " [0 0 0]]\n",
      "Accuracy: 0.0\n"
     ]
    }
   ],
   "source": [
    "from sklearn import preprocessing\n",
    "from sklearn.neighbors import KNeighborsClassifier\n",
    "from sklearn.metrics import confusion_matrix, accuracy_score\n",
    "from sklearn.model_selection import train_test_split\n",
    "\n",
    "size = ['Small', 'Small', 'Large', 'Small', 'Large', 'Large', 'Small', 'Large', 'Large', 'Small']\n",
    "color = ['Red', 'Green', 'Red', 'Green', 'Green', 'Red', 'Red', 'Green', 'Green', 'Red']\n",
    "vegetable = ['potato', 'onion', 'potato', 'chilli', 'tomato', 'potato', 'onion', 'potato', 'chilli', 'tomato'] # Target variable\n",
    "\n",
    "\n",
    "size_le= preprocessing. LabelEncoder()\n",
    "color_le = preprocessing. LabelEncoder()\n",
    "vegetable_le= preprocessing. LabelEncoder()\n",
    "\n",
    "size_encoded =size_le.fit_transform(size)\n",
    "color_encoded= color_le.fit_transform(color)\n",
    "vegetable_encoded= vegetable_le.fit_transform (vegetable)\n",
    "\n",
    "# Combine encoded features\n",
    "features= list(zip(size_encoded, color_encoded))\n",
    "# Split data into training and test sets\n",
    "features_train, features_test, label_train, label_test = train_test_split(\n",
    "    features, vegetable_encoded, test_size=0.2, random_state=42\n",
    ")\n",
    "#K-Nearest Neighbors model\n",
    "model = KNeighborsClassifier(n_neighbors=3, metric='euclidean')\n",
    "model.fit(features_train, label_train)\n",
    "# Prediction for \"small\" and \"Green\" \n",
    "test_data = [(size_le.transform(['Small']) [0], color_le.transform(['Green'])[0])] \n",
    "predicted=  model.predict(test_data)\n",
    "print(\"Prediction for small and Green:\", \"chilli\" if predicted [0] == 1 else \"tomato\")\n",
    "\n",
    "# Predictions on the test set and evaluation\n",
    "predicted_test = model.predict(features_test)\n",
    "print(\"Test Set Prediction:\", predicted_test)\n",
    "\n",
    "# Confusion Matrix and Accuracy\n",
    "conf_mat= confusion_matrix(label_test, predicted_test)\n",
    "print(\"Confusion Matrix:\\n\", conf_mat)\n",
    "\n",
    "accuracy= accuracy_score (label_test, predicted_test)\n",
    "print(\"Accuracy:\", accuracy)"
   ]
  },
  {
   "cell_type": "code",
   "execution_count": null,
   "id": "e265aeef-b5c7-4f4f-a6fc-0e21079ee0bb",
   "metadata": {},
   "outputs": [],
   "source": []
  },
  {
   "cell_type": "code",
   "execution_count": null,
   "id": "731517d0-e2ff-4627-99a2-6c3aa6164da8",
   "metadata": {},
   "outputs": [],
   "source": []
  }
 ],
 "metadata": {
  "kernelspec": {
   "display_name": "Python 3 (ipykernel)",
   "language": "python",
   "name": "python3"
  },
  "language_info": {
   "codemirror_mode": {
    "name": "ipython",
    "version": 3
   },
   "file_extension": ".py",
   "mimetype": "text/x-python",
   "name": "python",
   "nbconvert_exporter": "python",
   "pygments_lexer": "ipython3",
   "version": "3.12.7"
  }
 },
 "nbformat": 4,
 "nbformat_minor": 5
}
